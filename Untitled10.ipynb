{
  "nbformat": 4,
  "nbformat_minor": 0,
  "metadata": {
    "colab": {
      "name": "Untitled10.ipynb",
      "provenance": [],
      "authorship_tag": "ABX9TyM3qRKezbFwtGGDnCflKv6g",
      "include_colab_link": true
    },
    "kernelspec": {
      "name": "python3",
      "display_name": "Python 3"
    }
  },
  "cells": [
    {
      "cell_type": "markdown",
      "metadata": {
        "id": "view-in-github",
        "colab_type": "text"
      },
      "source": [
        "<a href=\"https://colab.research.google.com/github/rijalbishnu68/Taylor-poly/blob/main/Untitled10.ipynb\" target=\"_parent\"><img src=\"https://colab.research.google.com/assets/colab-badge.svg\" alt=\"Open In Colab\"/></a>"
      ]
    },
    {
      "cell_type": "markdown",
      "metadata": {
        "id": "CA8P9etU8rqn"
      },
      "source": [
        ""
      ]
    },
    {
      "cell_type": "markdown",
      "metadata": {
        "id": "9vQXyJwB8yEO"
      },
      "source": [
        "I have imported this scipy ( scientific python) library which allows me to use tools for better estimation of the curve and also helps in calculating the derivative of a function. Along with that I tested the points in 20 different co-ordinates in order to examine where the points keeps repeating constantly."
      ]
    },
    {
      "cell_type": "code",
      "metadata": {
        "colab": {
          "base_uri": "https://localhost:8080/"
        },
        "id": "v9NNobcrmbSF",
        "outputId": "2fd49f0b-bd36-4a54-ed50-a334001111a6"
      },
      "source": [
        "import numpy as np\r\n",
        "from scipy.misc import derivative\r\n",
        "\r\n",
        "p_n= 1\r\n",
        "x = np.linspace(-1, 1, 200)\r\n",
        "\r\n",
        "def fnc(x):\r\n",
        "  return 2*x**3 + 3*x**2 + 2*x + 2\r\n",
        "\r\n",
        "def fnc2(fnc, x,p_n):\r\n",
        "  slope = derivative(fnc, p_n, dx=1)\r\n",
        "  return p_n - fnc(p_n)/slope\r\n",
        "\r\n",
        "for i in range(20):\r\n",
        "   p_n = fnc2(fnc, x, p_n)\r\n",
        "   print(p_n)"
      ],
      "execution_count": null,
      "outputs": [
        {
          "output_type": "stream",
          "text": [
            "0.4375\n",
            "-0.02776381909547737\n",
            "-0.5349865165771874\n",
            "-1.126218071126005\n",
            "-1.269585972897815\n",
            "-1.3032211500767115\n",
            "-1.3129481130299057\n",
            "-1.3158862732834231\n",
            "-1.3167846628051687\n",
            "-1.3170603625333\n",
            "-1.3171450638972546\n",
            "-1.3171710949885311\n",
            "-1.3171790959056782\n",
            "-1.3171815551469064\n",
            "-1.317182311051143\n",
            "-1.3171825433963653\n",
            "-1.3171826148132857\n",
            "-1.3171826367650088\n",
            "-1.317182643512404\n",
            "-1.31718264558638\n"
          ],
          "name": "stdout"
        }
      ]
    },
    {
      "cell_type": "markdown",
      "metadata": {
        "id": "95fT3hUsxwjB"
      },
      "source": [
        "Here we came to have the similar value as the value of p_n went on increasing. This value kept constant. so the root of the cubic equation was obtained to be -1.317182\r\n"
      ]
    },
    {
      "cell_type": "code",
      "metadata": {
        "colab": {
          "base_uri": "https://localhost:8080/",
          "height": 295
        },
        "id": "sZMtRSosmcn8",
        "outputId": "3a7f2d99-123b-4af4-ac79-ddbf21322536"
      },
      "source": [
        "import matplotlib.pyplot as plt\r\n",
        "import numpy as np\r\n",
        "a = 2\r\n",
        "b = 3\r\n",
        "c = 2\r\n",
        "d = 2\r\n",
        "x = np.linspace(-10,10,100)\r\n",
        "y = a*x**3 + b*x**2 + c*x + d;\r\n",
        "\r\n",
        "# Creating vectors X and Y \r\n",
        "x = np.linspace(-2, 2, 100) \r\n",
        "y = 2*x**3 + 3*x**2 + 2*x + 2;\r\n",
        "plt.xlabel(\"x\")\r\n",
        "plt.ylabel(\"y\")\r\n",
        "plt.title(\"Graph of cubical function\")\r\n",
        "\r\n",
        "# Create the plot \r\n",
        "plt.plot(x, y) \r\n",
        "  \r\n",
        "# Show the plot \r\n",
        "plt.show() \r\n",
        "\r\n"
      ],
      "execution_count": null,
      "outputs": [
        {
          "output_type": "display_data",
          "data": {
            "image/png": "[encoded data removed]",
            "text/plain": [
              "<Figure size 432x288 with 1 Axes>"
            ]
          },
          "metadata": {
            "tags": [],
            "needs_background": "light"
          }
        }
      ]
    },
    {
      "cell_type": "markdown",
      "metadata": {
        "id": "AOqmWFawz-JT"
      },
      "source": [
        "As it looks from the graph that in the x axis between -1.5 and 0.5 it looks like the graph crosses the (0,0) and the answer we get from the tabulated form also match up with the graph."
      ]
    },
    {
      "cell_type": "code",
      "metadata": {
        "id": "dCq9XXQzz8_x"
      },
      "source": [
        ""
      ],
      "execution_count": null,
      "outputs": []
    },
    {
      "cell_type": "code",
      "metadata": {
        "id": "nidJdfHTve9J"
      },
      "source": [
        ""
      ],
      "execution_count": null,
      "outputs": []
    }
  ]
}